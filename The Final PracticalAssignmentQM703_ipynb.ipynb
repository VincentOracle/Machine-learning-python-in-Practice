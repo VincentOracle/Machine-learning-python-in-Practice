{
 "cells": [
  {
   "cell_type": "markdown",
   "id": "b42032ca-2f48-4fd6-b859-44a9a8df6297",
   "metadata": {},
   "source": [
    "# Machine learning python practical assignment"
   ]
  },
  {
   "cell_type": "markdown",
   "id": "bd3b77ce",
   "metadata": {},
   "source": [
    "This Machine Learning assignment focuses on applying and evaluating classification algorithms using the Diabetes dataset, which comprises medical records to predict the likelihood of diabetes in individuals. The dataset includes features such as glucose levels, blood pressure, BMI, and age, and the target variable indicates whether a person is diabetic (1) or not (0)."
   ]
  },
  {
   "cell_type": "markdown",
   "id": "3328d661",
   "metadata": {},
   "source": [
    "# Importing the required libraries"
   ]
  },
  {
   "cell_type": "code",
   "execution_count": 5,
   "id": "0c3c8b13-7466-4e72-8e8d-07e3fa2b83dc",
   "metadata": {},
   "outputs": [],
   "source": [
    "import pandas as pd\n",
    "from sklearn.model_selection import train_test_split\n",
    "from sklearn.preprocessing import StandardScaler\n",
    "from sklearn.linear_model import LogisticRegression\n",
    "from sklearn.svm import SVC\n",
    "from sklearn.metrics import accuracy_score, roc_auc_score, f1_score, roc_curve, confusion_matrix\n",
    "from sklearn.model_selection import cross_val_score\n",
    "import matplotlib.pyplot as plt\n",
    "import seaborn as sns"
   ]
  },
  {
   "cell_type": "markdown",
   "id": "23bde4ca-0702-4eca-a8aa-bcb5a26ceac5",
   "metadata": {},
   "source": [
    "<h2 style=\"color:blue\">Loading and exploring the dataset</h2>"
   ]
  },
  {
   "cell_type": "code",
   "execution_count": 6,
   "id": "ac12bbb4-3c00-473b-83d7-fe74569f6fc5",
   "metadata": {},
   "outputs": [],
   "source": [
    "# Load the dataset\n",
    "df = pd.read_csv(\"C:\\\\Users\\\\n\\\\Downloads\\Machine learning python practical assignment_1\\\\diabetes.csv\")"
   ]
  },
  {
   "cell_type": "code",
   "execution_count": 7,
   "id": "ee5fa5b4-6d83-40f2-85c8-586f657b7cec",
   "metadata": {},
   "outputs": [
    {
     "data": {
      "text/html": [
       "<div>\n",
       "<style scoped>\n",
       "    .dataframe tbody tr th:only-of-type {\n",
       "        vertical-align: middle;\n",
       "    }\n",
       "\n",
       "    .dataframe tbody tr th {\n",
       "        vertical-align: top;\n",
       "    }\n",
       "\n",
       "    .dataframe thead th {\n",
       "        text-align: right;\n",
       "    }\n",
       "</style>\n",
       "<table border=\"1\" class=\"dataframe\">\n",
       "  <thead>\n",
       "    <tr style=\"text-align: right;\">\n",
       "      <th></th>\n",
       "      <th>Pregnancies</th>\n",
       "      <th>Glucose</th>\n",
       "      <th>BloodPressure</th>\n",
       "      <th>SkinThickness</th>\n",
       "      <th>Insulin</th>\n",
       "      <th>BMI</th>\n",
       "      <th>DiabetesPedigreeFunction</th>\n",
       "      <th>Age</th>\n",
       "      <th>Outcome</th>\n",
       "    </tr>\n",
       "  </thead>\n",
       "  <tbody>\n",
       "    <tr>\n",
       "      <th>0</th>\n",
       "      <td>6</td>\n",
       "      <td>148</td>\n",
       "      <td>72</td>\n",
       "      <td>35</td>\n",
       "      <td>0</td>\n",
       "      <td>33.6</td>\n",
       "      <td>0.627</td>\n",
       "      <td>50</td>\n",
       "      <td>1</td>\n",
       "    </tr>\n",
       "    <tr>\n",
       "      <th>1</th>\n",
       "      <td>1</td>\n",
       "      <td>85</td>\n",
       "      <td>66</td>\n",
       "      <td>29</td>\n",
       "      <td>0</td>\n",
       "      <td>26.6</td>\n",
       "      <td>0.351</td>\n",
       "      <td>31</td>\n",
       "      <td>0</td>\n",
       "    </tr>\n",
       "    <tr>\n",
       "      <th>2</th>\n",
       "      <td>8</td>\n",
       "      <td>183</td>\n",
       "      <td>64</td>\n",
       "      <td>0</td>\n",
       "      <td>0</td>\n",
       "      <td>23.3</td>\n",
       "      <td>0.672</td>\n",
       "      <td>32</td>\n",
       "      <td>1</td>\n",
       "    </tr>\n",
       "    <tr>\n",
       "      <th>3</th>\n",
       "      <td>1</td>\n",
       "      <td>89</td>\n",
       "      <td>66</td>\n",
       "      <td>23</td>\n",
       "      <td>94</td>\n",
       "      <td>28.1</td>\n",
       "      <td>0.167</td>\n",
       "      <td>21</td>\n",
       "      <td>0</td>\n",
       "    </tr>\n",
       "    <tr>\n",
       "      <th>4</th>\n",
       "      <td>0</td>\n",
       "      <td>137</td>\n",
       "      <td>40</td>\n",
       "      <td>35</td>\n",
       "      <td>168</td>\n",
       "      <td>43.1</td>\n",
       "      <td>2.288</td>\n",
       "      <td>33</td>\n",
       "      <td>1</td>\n",
       "    </tr>\n",
       "  </tbody>\n",
       "</table>\n",
       "</div>"
      ],
      "text/plain": [
       "   Pregnancies  Glucose  BloodPressure  SkinThickness  Insulin   BMI  \\\n",
       "0            6      148             72             35        0  33.6   \n",
       "1            1       85             66             29        0  26.6   \n",
       "2            8      183             64              0        0  23.3   \n",
       "3            1       89             66             23       94  28.1   \n",
       "4            0      137             40             35      168  43.1   \n",
       "\n",
       "   DiabetesPedigreeFunction  Age  Outcome  \n",
       "0                     0.627   50        1  \n",
       "1                     0.351   31        0  \n",
       "2                     0.672   32        1  \n",
       "3                     0.167   21        0  \n",
       "4                     2.288   33        1  "
      ]
     },
     "execution_count": 7,
     "metadata": {},
     "output_type": "execute_result"
    }
   ],
   "source": [
    "# Display the first 5 rows from the dataset\n",
    "df.head()"
   ]
  },
  {
   "cell_type": "code",
   "execution_count": 8,
   "id": "11ead2c1-6124-4b5b-a0ce-5cf0a8c5d6af",
   "metadata": {},
   "outputs": [
    {
     "data": {
      "text/plain": [
       "(768, 9)"
      ]
     },
     "execution_count": 8,
     "metadata": {},
     "output_type": "execute_result"
    }
   ],
   "source": [
    "# Display the shape of the dataset\n",
    "df.shape"
   ]
  },
  {
   "cell_type": "code",
   "execution_count": 9,
   "id": "783b6dc6-09d9-4abb-8eda-13b8b2aa14a4",
   "metadata": {},
   "outputs": [
    {
     "data": {
      "text/plain": [
       "Index(['Pregnancies', 'Glucose', 'BloodPressure', 'SkinThickness', 'Insulin',\n",
       "       'BMI', 'DiabetesPedigreeFunction', 'Age', 'Outcome'],\n",
       "      dtype='object')"
      ]
     },
     "execution_count": 9,
     "metadata": {},
     "output_type": "execute_result"
    }
   ],
   "source": [
    "# Display the columns in the dataset\n",
    "df.columns"
   ]
  },
  {
   "cell_type": "code",
   "execution_count": 10,
   "id": "93503682-5467-4e86-8fb4-7137b83880a8",
   "metadata": {},
   "outputs": [
    {
     "name": "stdout",
     "output_type": "stream",
     "text": [
      "<class 'pandas.core.frame.DataFrame'>\n",
      "RangeIndex: 768 entries, 0 to 767\n",
      "Data columns (total 9 columns):\n",
      " #   Column                    Non-Null Count  Dtype  \n",
      "---  ------                    --------------  -----  \n",
      " 0   Pregnancies               768 non-null    int64  \n",
      " 1   Glucose                   768 non-null    int64  \n",
      " 2   BloodPressure             768 non-null    int64  \n",
      " 3   SkinThickness             768 non-null    int64  \n",
      " 4   Insulin                   768 non-null    int64  \n",
      " 5   BMI                       768 non-null    float64\n",
      " 6   DiabetesPedigreeFunction  768 non-null    float64\n",
      " 7   Age                       768 non-null    int64  \n",
      " 8   Outcome                   768 non-null    int64  \n",
      "dtypes: float64(2), int64(7)\n",
      "memory usage: 54.1 KB\n"
     ]
    }
   ],
   "source": [
    "# Display some basic infromation about the dataset\n",
    "df.info()"
   ]
  },
  {
   "cell_type": "code",
   "execution_count": 11,
   "id": "6f5ae46a-df44-4911-a0b9-a43543d69a26",
   "metadata": {},
   "outputs": [
    {
     "data": {
      "text/html": [
       "<div>\n",
       "<style scoped>\n",
       "    .dataframe tbody tr th:only-of-type {\n",
       "        vertical-align: middle;\n",
       "    }\n",
       "\n",
       "    .dataframe tbody tr th {\n",
       "        vertical-align: top;\n",
       "    }\n",
       "\n",
       "    .dataframe thead th {\n",
       "        text-align: right;\n",
       "    }\n",
       "</style>\n",
       "<table border=\"1\" class=\"dataframe\">\n",
       "  <thead>\n",
       "    <tr style=\"text-align: right;\">\n",
       "      <th></th>\n",
       "      <th>Pregnancies</th>\n",
       "      <th>Glucose</th>\n",
       "      <th>BloodPressure</th>\n",
       "      <th>SkinThickness</th>\n",
       "      <th>Insulin</th>\n",
       "      <th>BMI</th>\n",
       "      <th>DiabetesPedigreeFunction</th>\n",
       "      <th>Age</th>\n",
       "      <th>Outcome</th>\n",
       "    </tr>\n",
       "  </thead>\n",
       "  <tbody>\n",
       "    <tr>\n",
       "      <th>count</th>\n",
       "      <td>768.000000</td>\n",
       "      <td>768.000000</td>\n",
       "      <td>768.000000</td>\n",
       "      <td>768.000000</td>\n",
       "      <td>768.000000</td>\n",
       "      <td>768.000000</td>\n",
       "      <td>768.000000</td>\n",
       "      <td>768.000000</td>\n",
       "      <td>768.000000</td>\n",
       "    </tr>\n",
       "    <tr>\n",
       "      <th>mean</th>\n",
       "      <td>3.845052</td>\n",
       "      <td>120.894531</td>\n",
       "      <td>69.105469</td>\n",
       "      <td>20.536458</td>\n",
       "      <td>79.799479</td>\n",
       "      <td>31.992578</td>\n",
       "      <td>0.471876</td>\n",
       "      <td>33.240885</td>\n",
       "      <td>0.348958</td>\n",
       "    </tr>\n",
       "    <tr>\n",
       "      <th>std</th>\n",
       "      <td>3.369578</td>\n",
       "      <td>31.972618</td>\n",
       "      <td>19.355807</td>\n",
       "      <td>15.952218</td>\n",
       "      <td>115.244002</td>\n",
       "      <td>7.884160</td>\n",
       "      <td>0.331329</td>\n",
       "      <td>11.760232</td>\n",
       "      <td>0.476951</td>\n",
       "    </tr>\n",
       "    <tr>\n",
       "      <th>min</th>\n",
       "      <td>0.000000</td>\n",
       "      <td>0.000000</td>\n",
       "      <td>0.000000</td>\n",
       "      <td>0.000000</td>\n",
       "      <td>0.000000</td>\n",
       "      <td>0.000000</td>\n",
       "      <td>0.078000</td>\n",
       "      <td>21.000000</td>\n",
       "      <td>0.000000</td>\n",
       "    </tr>\n",
       "    <tr>\n",
       "      <th>25%</th>\n",
       "      <td>1.000000</td>\n",
       "      <td>99.000000</td>\n",
       "      <td>62.000000</td>\n",
       "      <td>0.000000</td>\n",
       "      <td>0.000000</td>\n",
       "      <td>27.300000</td>\n",
       "      <td>0.243750</td>\n",
       "      <td>24.000000</td>\n",
       "      <td>0.000000</td>\n",
       "    </tr>\n",
       "    <tr>\n",
       "      <th>50%</th>\n",
       "      <td>3.000000</td>\n",
       "      <td>117.000000</td>\n",
       "      <td>72.000000</td>\n",
       "      <td>23.000000</td>\n",
       "      <td>30.500000</td>\n",
       "      <td>32.000000</td>\n",
       "      <td>0.372500</td>\n",
       "      <td>29.000000</td>\n",
       "      <td>0.000000</td>\n",
       "    </tr>\n",
       "    <tr>\n",
       "      <th>75%</th>\n",
       "      <td>6.000000</td>\n",
       "      <td>140.250000</td>\n",
       "      <td>80.000000</td>\n",
       "      <td>32.000000</td>\n",
       "      <td>127.250000</td>\n",
       "      <td>36.600000</td>\n",
       "      <td>0.626250</td>\n",
       "      <td>41.000000</td>\n",
       "      <td>1.000000</td>\n",
       "    </tr>\n",
       "    <tr>\n",
       "      <th>max</th>\n",
       "      <td>17.000000</td>\n",
       "      <td>199.000000</td>\n",
       "      <td>122.000000</td>\n",
       "      <td>99.000000</td>\n",
       "      <td>846.000000</td>\n",
       "      <td>67.100000</td>\n",
       "      <td>2.420000</td>\n",
       "      <td>81.000000</td>\n",
       "      <td>1.000000</td>\n",
       "    </tr>\n",
       "  </tbody>\n",
       "</table>\n",
       "</div>"
      ],
      "text/plain": [
       "       Pregnancies     Glucose  BloodPressure  SkinThickness     Insulin  \\\n",
       "count   768.000000  768.000000     768.000000     768.000000  768.000000   \n",
       "mean      3.845052  120.894531      69.105469      20.536458   79.799479   \n",
       "std       3.369578   31.972618      19.355807      15.952218  115.244002   \n",
       "min       0.000000    0.000000       0.000000       0.000000    0.000000   \n",
       "25%       1.000000   99.000000      62.000000       0.000000    0.000000   \n",
       "50%       3.000000  117.000000      72.000000      23.000000   30.500000   \n",
       "75%       6.000000  140.250000      80.000000      32.000000  127.250000   \n",
       "max      17.000000  199.000000     122.000000      99.000000  846.000000   \n",
       "\n",
       "              BMI  DiabetesPedigreeFunction         Age     Outcome  \n",
       "count  768.000000                768.000000  768.000000  768.000000  \n",
       "mean    31.992578                  0.471876   33.240885    0.348958  \n",
       "std      7.884160                  0.331329   11.760232    0.476951  \n",
       "min      0.000000                  0.078000   21.000000    0.000000  \n",
       "25%     27.300000                  0.243750   24.000000    0.000000  \n",
       "50%     32.000000                  0.372500   29.000000    0.000000  \n",
       "75%     36.600000                  0.626250   41.000000    1.000000  \n",
       "max     67.100000                  2.420000   81.000000    1.000000  "
      ]
     },
     "execution_count": 11,
     "metadata": {},
     "output_type": "execute_result"
    }
   ],
   "source": [
    "# Display some statistical infromation about the dataset\n",
    "df.describe()"
   ]
  },
  {
   "cell_type": "markdown",
   "id": "9b25edf5-e9ca-4c69-b899-57fe0ddede99",
   "metadata": {},
   "source": [
    "<h2 style=\"color:blue\">Data Preprocessing</h2>"
   ]
  },
  {
   "cell_type": "code",
   "execution_count": 12,
   "id": "fab8aca5-1f2c-438b-98ac-458311cdc158",
   "metadata": {},
   "outputs": [
    {
     "data": {
      "text/plain": [
       "Pregnancies                 0\n",
       "Glucose                     0\n",
       "BloodPressure               0\n",
       "SkinThickness               0\n",
       "Insulin                     0\n",
       "BMI                         0\n",
       "DiabetesPedigreeFunction    0\n",
       "Age                         0\n",
       "Outcome                     0\n",
       "dtype: int64"
      ]
     },
     "execution_count": 12,
     "metadata": {},
     "output_type": "execute_result"
    }
   ],
   "source": [
    "# Check null values\n",
    "df.isnull().sum()"
   ]
  },
  {
   "cell_type": "code",
   "execution_count": 13,
   "id": "012fdd6e-9aeb-4971-9c94-a656c1aa0b85",
   "metadata": {},
   "outputs": [
    {
     "data": {
      "text/plain": [
       "0"
      ]
     },
     "execution_count": 13,
     "metadata": {},
     "output_type": "execute_result"
    }
   ],
   "source": [
    "# Check duplication values\n",
    "df.duplicated().sum()"
   ]
  },
  {
   "cell_type": "markdown",
   "id": "d4c8415e-4e95-4bb2-bacc-b91569fc069a",
   "metadata": {},
   "source": [
    "<h2 style=\"color:blue\">Features and Target extraction</h2>"
   ]
  },
  {
   "cell_type": "code",
   "execution_count": 14,
   "id": "834020de-4d20-40fd-b4e4-f80adf26a755",
   "metadata": {},
   "outputs": [
    {
     "data": {
      "text/html": [
       "<div>\n",
       "<style scoped>\n",
       "    .dataframe tbody tr th:only-of-type {\n",
       "        vertical-align: middle;\n",
       "    }\n",
       "\n",
       "    .dataframe tbody tr th {\n",
       "        vertical-align: top;\n",
       "    }\n",
       "\n",
       "    .dataframe thead th {\n",
       "        text-align: right;\n",
       "    }\n",
       "</style>\n",
       "<table border=\"1\" class=\"dataframe\">\n",
       "  <thead>\n",
       "    <tr style=\"text-align: right;\">\n",
       "      <th></th>\n",
       "      <th>Pregnancies</th>\n",
       "      <th>Glucose</th>\n",
       "      <th>BloodPressure</th>\n",
       "      <th>SkinThickness</th>\n",
       "      <th>Insulin</th>\n",
       "      <th>BMI</th>\n",
       "      <th>DiabetesPedigreeFunction</th>\n",
       "      <th>Age</th>\n",
       "    </tr>\n",
       "  </thead>\n",
       "  <tbody>\n",
       "    <tr>\n",
       "      <th>0</th>\n",
       "      <td>6</td>\n",
       "      <td>148</td>\n",
       "      <td>72</td>\n",
       "      <td>35</td>\n",
       "      <td>0</td>\n",
       "      <td>33.6</td>\n",
       "      <td>0.627</td>\n",
       "      <td>50</td>\n",
       "    </tr>\n",
       "    <tr>\n",
       "      <th>1</th>\n",
       "      <td>1</td>\n",
       "      <td>85</td>\n",
       "      <td>66</td>\n",
       "      <td>29</td>\n",
       "      <td>0</td>\n",
       "      <td>26.6</td>\n",
       "      <td>0.351</td>\n",
       "      <td>31</td>\n",
       "    </tr>\n",
       "    <tr>\n",
       "      <th>2</th>\n",
       "      <td>8</td>\n",
       "      <td>183</td>\n",
       "      <td>64</td>\n",
       "      <td>0</td>\n",
       "      <td>0</td>\n",
       "      <td>23.3</td>\n",
       "      <td>0.672</td>\n",
       "      <td>32</td>\n",
       "    </tr>\n",
       "    <tr>\n",
       "      <th>3</th>\n",
       "      <td>1</td>\n",
       "      <td>89</td>\n",
       "      <td>66</td>\n",
       "      <td>23</td>\n",
       "      <td>94</td>\n",
       "      <td>28.1</td>\n",
       "      <td>0.167</td>\n",
       "      <td>21</td>\n",
       "    </tr>\n",
       "    <tr>\n",
       "      <th>4</th>\n",
       "      <td>0</td>\n",
       "      <td>137</td>\n",
       "      <td>40</td>\n",
       "      <td>35</td>\n",
       "      <td>168</td>\n",
       "      <td>43.1</td>\n",
       "      <td>2.288</td>\n",
       "      <td>33</td>\n",
       "    </tr>\n",
       "  </tbody>\n",
       "</table>\n",
       "</div>"
      ],
      "text/plain": [
       "   Pregnancies  Glucose  BloodPressure  SkinThickness  Insulin   BMI  \\\n",
       "0            6      148             72             35        0  33.6   \n",
       "1            1       85             66             29        0  26.6   \n",
       "2            8      183             64              0        0  23.3   \n",
       "3            1       89             66             23       94  28.1   \n",
       "4            0      137             40             35      168  43.1   \n",
       "\n",
       "   DiabetesPedigreeFunction  Age  \n",
       "0                     0.627   50  \n",
       "1                     0.351   31  \n",
       "2                     0.672   32  \n",
       "3                     0.167   21  \n",
       "4                     2.288   33  "
      ]
     },
     "execution_count": 14,
     "metadata": {},
     "output_type": "execute_result"
    }
   ],
   "source": [
    "# Extract the features\n",
    "X = df.drop('Outcome', axis=1)\n",
    "X.head()"
   ]
  },
  {
   "cell_type": "code",
   "execution_count": 15,
   "id": "46474dff-ea24-42ba-bdc8-8b388f840af3",
   "metadata": {},
   "outputs": [
    {
     "data": {
      "text/plain": [
       "0    1\n",
       "1    0\n",
       "2    1\n",
       "3    0\n",
       "4    1\n",
       "Name: Outcome, dtype: int64"
      ]
     },
     "execution_count": 15,
     "metadata": {},
     "output_type": "execute_result"
    }
   ],
   "source": [
    "# Extract the target (label)\n",
    "y = df['Outcome']\n",
    "y.head()"
   ]
  },
  {
   "cell_type": "markdown",
   "id": "4265d277-6b99-46c8-9d42-33b254fe07f9",
   "metadata": {},
   "source": [
    "<h2 style=\"color:blue\">Spliting the data</h2>"
   ]
  },
  {
   "cell_type": "code",
   "execution_count": 16,
   "id": "69ab5636-1d81-4de1-b928-7bf91bce6170",
   "metadata": {},
   "outputs": [],
   "source": [
    "# Split the data into 2/3 training and 1/3 testing\n",
    "X_train, X_test, y_train, y_test = train_test_split(X, y, test_size=0.33, random_state=42)"
   ]
  },
  {
   "cell_type": "code",
   "execution_count": 17,
   "id": "4fccd136-a2f4-427c-9392-6a6481e37685",
   "metadata": {},
   "outputs": [
    {
     "data": {
      "text/plain": [
       "((514, 8), (254, 8))"
      ]
     },
     "execution_count": 17,
     "metadata": {},
     "output_type": "execute_result"
    }
   ],
   "source": [
    "# showing the shape of x-train and x-test\n",
    "X_train.shape , X_test.shape"
   ]
  },
  {
   "cell_type": "code",
   "execution_count": 18,
   "id": "520183d9-1236-4369-aff4-8ec80d930ad3",
   "metadata": {},
   "outputs": [
    {
     "data": {
      "text/plain": [
       "((514,), (254,))"
      ]
     },
     "execution_count": 18,
     "metadata": {},
     "output_type": "execute_result"
    }
   ],
   "source": [
    "# showing the shape of y-train and y-test\n",
    "y_train.shape , y_test.shape"
   ]
  },
  {
   "cell_type": "markdown",
   "id": "e13ead06-659d-4f84-b868-2f8e7c078357",
   "metadata": {},
   "source": [
    "<h2 style=\"color:blue\">Scaling the data</h2>"
   ]
  },
  {
   "cell_type": "code",
   "execution_count": 19,
   "id": "6703f875-a170-4b41-a1c2-393719717002",
   "metadata": {},
   "outputs": [],
   "source": [
    "# Standardize the data using StandardScaler\n",
    "scaler = StandardScaler()\n",
    "X_train_scaled = scaler.fit_transform(X_train)\n",
    "X_test_scaled = scaler.transform(X_test)"
   ]
  },
  {
   "cell_type": "markdown",
   "id": "5c0843db-9df4-467c-a484-f978dfb5a2ce",
   "metadata": {},
   "source": [
    "<h2 style=\"color:blue\">Modeling</h2>"
   ]
  },
  {
   "cell_type": "markdown",
   "id": "b4a0a7c2-c129-455b-be8c-7b0f45782dba",
   "metadata": {},
   "source": [
    "<h4 style=\"color:red\">Modeling using Logistic Regression</h4>"
   ]
  },
  {
   "cell_type": "code",
   "execution_count": 20,
   "id": "994c0881-1b78-4276-9b23-29ee647d8f96",
   "metadata": {},
   "outputs": [],
   "source": [
    "# Initialize the model\n",
    "log_reg_model = LogisticRegression()"
   ]
  },
  {
   "cell_type": "code",
   "execution_count": 21,
   "id": "ee93ba21-7434-4380-85c6-e27fb540deb9",
   "metadata": {},
   "outputs": [
    {
     "data": {
      "text/plain": [
       "LogisticRegression()"
      ]
     },
     "execution_count": 21,
     "metadata": {},
     "output_type": "execute_result"
    }
   ],
   "source": [
    "# Train the model\n",
    "log_reg_model.fit(X_train_scaled, y_train)"
   ]
  },
  {
   "cell_type": "markdown",
   "id": "b7006506-9eab-4c69-81e8-02a967dac416",
   "metadata": {},
   "source": [
    "<h4 style=\"color:red\">Modeling using Linear SVM </h4>"
   ]
  },
  {
   "cell_type": "code",
   "execution_count": 22,
   "id": "48c34dc0-aa58-4500-b129-82981407cd60",
   "metadata": {},
   "outputs": [],
   "source": [
    "# Initialize the model\n",
    "svm_linear_model = SVC(kernel='linear', probability=True)"
   ]
  },
  {
   "cell_type": "code",
   "execution_count": 23,
   "id": "ae90a9e9-1c6b-494d-a59d-058950a1f4cf",
   "metadata": {},
   "outputs": [
    {
     "data": {
      "text/plain": [
       "SVC(kernel='linear', probability=True)"
      ]
     },
     "execution_count": 23,
     "metadata": {},
     "output_type": "execute_result"
    }
   ],
   "source": [
    "# Train the model\n",
    "svm_linear_model.fit(X_train_scaled, y_train)"
   ]
  },
  {
   "cell_type": "markdown",
   "id": "f744e321-e90a-46e5-8663-e16e8d5e934a",
   "metadata": {},
   "source": [
    "<h4 style=\"color:red\">Modeling using RBF SVM </h4>"
   ]
  },
  {
   "cell_type": "code",
   "execution_count": 24,
   "id": "32aea213-cf97-49c0-af4f-b2faddf3402b",
   "metadata": {},
   "outputs": [],
   "source": [
    "# Initialize the model\n",
    "svm_rbf_model = SVC(kernel='rbf', probability=True)"
   ]
  },
  {
   "cell_type": "code",
   "execution_count": 25,
   "id": "70bbbb58-99da-4a05-8e8f-223729d0df4a",
   "metadata": {},
   "outputs": [
    {
     "data": {
      "text/plain": [
       "SVC(probability=True)"
      ]
     },
     "execution_count": 25,
     "metadata": {},
     "output_type": "execute_result"
    }
   ],
   "source": [
    "# Train the model\n",
    "svm_rbf_model.fit(X_train_scaled, y_train)"
   ]
  },
  {
   "cell_type": "markdown",
   "id": "7e8f6411-4b07-4422-a9c4-abd4c9d4eeaa",
   "metadata": {},
   "source": [
    "<h2 style=\"color:blue\">Predicting the Models</h2>"
   ]
  },
  {
   "cell_type": "markdown",
   "id": "c8e46375-2953-4561-b73a-362d01d9e155",
   "metadata": {},
   "source": [
    "<h4 style=\"color:red\">Predicting the Logistic Regression</h4>"
   ]
  },
  {
   "cell_type": "code",
   "execution_count": 26,
   "id": "522d5d42-10a5-4644-afed-0976f64f3795",
   "metadata": {},
   "outputs": [
    {
     "data": {
      "text/plain": [
       "array([0, 0, 0, 0, 1, 0, 0, 1, 1, 1], dtype=int64)"
      ]
     },
     "execution_count": 26,
     "metadata": {},
     "output_type": "execute_result"
    }
   ],
   "source": [
    "# Step 5: Make predictions on the test set\n",
    "y_pred_log_reg = log_reg_model.predict(X_test_scaled)\n",
    "y_pred_log_reg[:10]"
   ]
  },
  {
   "cell_type": "markdown",
   "id": "0fa95a8f-b625-48ef-b142-688270f666f3",
   "metadata": {},
   "source": [
    "<h4 style=\"color:red\">Predicting the Linear SVM </h4>"
   ]
  },
  {
   "cell_type": "code",
   "execution_count": 27,
   "id": "0da70210-17f9-4daf-b4e1-ecd1385e576f",
   "metadata": {},
   "outputs": [
    {
     "data": {
      "text/plain": [
       "array([0, 0, 0, 0, 1, 0, 0, 1, 1, 1], dtype=int64)"
      ]
     },
     "execution_count": 27,
     "metadata": {},
     "output_type": "execute_result"
    }
   ],
   "source": [
    "# Step 5: Make predictions on the test set\n",
    "y_pred_svm_linear = svm_linear_model.predict(X_test_scaled)\n",
    "y_pred_svm_linear[:10]"
   ]
  },
  {
   "cell_type": "markdown",
   "id": "65b4cb68-ef76-452b-8609-44200015081a",
   "metadata": {},
   "source": [
    "<h4 style=\"color:red\">Predicting the RBF SVM</h4>"
   ]
  },
  {
   "cell_type": "code",
   "execution_count": 28,
   "id": "0ca492c6-1ab7-4873-8a6b-523326bca5d9",
   "metadata": {},
   "outputs": [
    {
     "data": {
      "text/plain": [
       "array([0, 0, 0, 0, 0, 0, 0, 1, 1, 1], dtype=int64)"
      ]
     },
     "execution_count": 28,
     "metadata": {},
     "output_type": "execute_result"
    }
   ],
   "source": [
    "# Step 5: Make predictions on the test set\n",
    "y_pred_svm_rbf = svm_rbf_model.predict(X_test_scaled)\n",
    "y_pred_svm_rbf[:10]"
   ]
  },
  {
   "cell_type": "markdown",
   "id": "f4e13c38-cde7-4eed-85fd-24d832bf550d",
   "metadata": {},
   "source": [
    "<h2 style=\"color:blue\">Evaluating the Models</h2>"
   ]
  },
  {
   "cell_type": "markdown",
   "id": "7468b61a-5b47-4e31-9658-bbd690f42ed3",
   "metadata": {},
   "source": [
    "<h4 style=\"color:red\">Evaluating the Logistic Regression</h4>"
   ]
  },
  {
   "cell_type": "code",
   "execution_count": 29,
   "id": "537ebc21-a4d5-49da-8ae2-70e6377c64a7",
   "metadata": {},
   "outputs": [
    {
     "data": {
      "text/plain": [
       "0.7401574803149606"
      ]
     },
     "execution_count": 29,
     "metadata": {},
     "output_type": "execute_result"
    }
   ],
   "source": [
    "# Finding the accuracy\n",
    "accuracy_log_reg = accuracy_score(y_test, y_pred_log_reg)\n",
    "accuracy_log_reg"
   ]
  },
  {
   "cell_type": "code",
   "execution_count": 30,
   "id": "dd90264e-b91a-41a1-83de-e493783c116b",
   "metadata": {},
   "outputs": [
    {
     "data": {
      "text/plain": [
       "0.7070874861572536"
      ]
     },
     "execution_count": 30,
     "metadata": {},
     "output_type": "execute_result"
    }
   ],
   "source": [
    "# Finding the AUC\n",
    "auc_log_reg = roc_auc_score(y_test, y_pred_log_reg)\n",
    "auc_log_reg"
   ]
  },
  {
   "cell_type": "code",
   "execution_count": 31,
   "id": "9d5c32ee-680e-45fe-8507-6535cc012201",
   "metadata": {},
   "outputs": [
    {
     "data": {
      "image/png": "[encoded data removed]",
      "text/plain": [
       "<Figure size 576x432 with 1 Axes>"
      ]
     },
     "metadata": {
      "needs_background": "light"
     },
     "output_type": "display_data"
    }
   ],
   "source": [
    "# Ploting Areas Under the ROC Curves (AUCs)\n",
    "y_prob_log_reg = log_reg_model.predict_proba(X_test_scaled)[:, 1] \n",
    "fpr_log_reg, tpr_log_reg, _ = roc_curve(y_test, y_prob_log_reg)\n",
    "\n",
    "# Plot ROC curve for Logistic Regression\n",
    "plt.figure(figsize=(8, 6))\n",
    "plt.plot(fpr_log_reg, tpr_log_reg, color='blue', label=f'Logistic Regression')\n",
    "plt.plot([0, 1], [0, 1], 'k--', label='Random Classifier (AUC = 0.5)')\n",
    "plt.xlabel('False Positive Rate (FPR)')\n",
    "plt.ylabel('True Positive Rate (TPR)')\n",
    "plt.title('ROC Curve for Logistic Regression')\n",
    "plt.legend(loc='lower right')\n",
    "plt.grid()\n",
    "plt.show()\n"
   ]
  },
  {
   "cell_type": "code",
   "execution_count": 32,
   "id": "e16743fc-abb2-446b-a093-d9a3fde43e95",
   "metadata": {},
   "outputs": [
    {
     "data": {
      "text/plain": [
       "0.611764705882353"
      ]
     },
     "execution_count": 32,
     "metadata": {},
     "output_type": "execute_result"
    }
   ],
   "source": [
    "# Finding f1 score value\n",
    "f1_log_reg = f1_score(y_test, y_pred_log_reg)\n",
    "f1_log_reg"
   ]
  },
  {
   "cell_type": "code",
   "execution_count": 33,
   "id": "5a68145c-bd99-48c7-8d93-d0d72732ce16",
   "metadata": {},
   "outputs": [
    {
     "data": {
      "image/png": "[encoded data removed]",
      "text/plain": [
       "<Figure size 576x432 with 2 Axes>"
      ]
     },
     "metadata": {
      "needs_background": "light"
     },
     "output_type": "display_data"
    }
   ],
   "source": [
    "\n",
    "cm = confusion_matrix(y_test, y_pred_log_reg)\n",
    "\n",
    "plt.figure(figsize=(8, 6))\n",
    "sns.heatmap(cm, annot=True, fmt=\"d\", cmap=\"Blues\")\n",
    "plt.title(\"Confusion Matrix for Logistic Regression\")\n",
    "plt.xlabel(\"Predicted\")\n",
    "plt.ylabel(\"True\")\n",
    "plt.show()"
   ]
  },
  {
   "cell_type": "code",
   "execution_count": 35,
   "id": "aa013e57",
   "metadata": {},
   "outputs": [
    {
     "data": {
      "text/plain": [
       "array([[136,  32],\n",
       "       [ 34,  52]], dtype=int64)"
      ]
     },
     "execution_count": 35,
     "metadata": {},
     "output_type": "execute_result"
    }
   ],
   "source": [
    "cm "
   ]
  },
  {
   "cell_type": "markdown",
   "id": "27059ae5-6048-49c0-95eb-44e08fea7b93",
   "metadata": {},
   "source": [
    "<h4 style=\"color:red\">Evaluating the Linear SVM</h4>"
   ]
  },
  {
   "cell_type": "code",
   "execution_count": 36,
   "id": "cdffcfa8-c728-4b31-b62a-1f788d8faac5",
   "metadata": {},
   "outputs": [
    {
     "data": {
      "text/plain": [
       "0.7519685039370079"
      ]
     },
     "execution_count": 36,
     "metadata": {},
     "output_type": "execute_result"
    }
   ],
   "source": [
    "# Finding the accuracy\n",
    "accuracy_svm_linear = accuracy_score(y_test, y_pred_svm_linear)\n",
    "accuracy_svm_linear"
   ]
  },
  {
   "cell_type": "code",
   "execution_count": 37,
   "id": "1432ab50-ef32-4217-b6d1-b8f37dc30cac",
   "metadata": {},
   "outputs": [
    {
     "data": {
      "text/plain": [
       "0.7188538205980066"
      ]
     },
     "execution_count": 37,
     "metadata": {},
     "output_type": "execute_result"
    }
   ],
   "source": [
    "# Finding the AUC\n",
    "auc_svm_linear = roc_auc_score(y_test, y_pred_svm_linear)\n",
    "auc_svm_linear"
   ]
  },
  {
   "cell_type": "code",
   "execution_count": 38,
   "id": "25c8bcfb-0bef-422e-b7da-ea108db954e4",
   "metadata": {},
   "outputs": [
    {
     "data": {
      "image/png": "[encoded data removed]",
      "text/plain": [
       "<Figure size 576x432 with 1 Axes>"
      ]
     },
     "metadata": {
      "needs_background": "light"
     },
     "output_type": "display_data"
    }
   ],
   "source": [
    "# Ploting Areas Under the ROC Curves (AUCs)\n",
    "y_prob_svm_linear = svm_linear_model.predict_proba(X_test_scaled)[:, 1] \n",
    "fpr_svm_linear, tpr_svm_linear, _ = roc_curve(y_test, y_prob_svm_linear)\n",
    "\n",
    "# Plot ROC curve for Linear SVM\n",
    "plt.figure(figsize=(8, 6))\n",
    "plt.plot(fpr_svm_linear, tpr_svm_linear, color='green', label=f'Linear SVM')\n",
    "plt.plot([0, 1], [0, 1], 'k--', label='Random Classifier (AUC = 0.5)')\n",
    "plt.xlabel('False Positive Rate (FPR)')\n",
    "plt.ylabel('True Positive Rate (TPR)')\n",
    "plt.title('ROC Curve for Linear SVM')\n",
    "plt.legend(loc='lower right')\n",
    "plt.grid()\n",
    "plt.show()"
   ]
  },
  {
   "cell_type": "code",
   "execution_count": 39,
   "id": "dd9b140b-5502-4a3b-a888-957e75b29908",
   "metadata": {},
   "outputs": [
    {
     "data": {
      "text/plain": [
       "0.6272189349112426"
      ]
     },
     "execution_count": 39,
     "metadata": {},
     "output_type": "execute_result"
    }
   ],
   "source": [
    "# Finding f1 score value\n",
    "f1_svm_linear = f1_score(y_test, y_pred_svm_linear)\n",
    "f1_svm_linear"
   ]
  },
  {
   "cell_type": "code",
   "execution_count": 40,
   "id": "6a96a55e-fab4-4389-ad99-11171ba776b2",
   "metadata": {},
   "outputs": [
    {
     "data": {
      "image/png": "[encoded data removed]",
      "text/plain": [
       "<Figure size 576x432 with 2 Axes>"
      ]
     },
     "metadata": {
      "needs_background": "light"
     },
     "output_type": "display_data"
    }
   ],
   "source": [
    "cm = confusion_matrix(y_test, y_pred_svm_linear)\n",
    "\n",
    "plt.figure(figsize=(8, 6))\n",
    "sns.heatmap(cm, annot=True, fmt=\"d\", cmap=\"Blues\")\n",
    "plt.title(\"Confusion Matrix for Linear SVM\")\n",
    "plt.xlabel(\"Predicted\")\n",
    "plt.ylabel(\"True\")\n",
    "plt.show()"
   ]
  },
  {
   "cell_type": "code",
   "execution_count": 42,
   "id": "d44dcce8",
   "metadata": {},
   "outputs": [
    {
     "data": {
      "text/plain": [
       "array([[138,  30],\n",
       "       [ 33,  53]], dtype=int64)"
      ]
     },
     "execution_count": 42,
     "metadata": {},
     "output_type": "execute_result"
    }
   ],
   "source": [
    "cm "
   ]
  },
  {
   "cell_type": "markdown",
   "id": "01c3fc0f-8d09-4c46-97de-fe9321a67742",
   "metadata": {},
   "source": [
    "<h4 style=\"color:red\">Evaluating the RBF SVM</h4>"
   ]
  },
  {
   "cell_type": "code",
   "execution_count": 43,
   "id": "85222d08-f3ea-4093-afc5-e26c11ceeaf2",
   "metadata": {},
   "outputs": [
    {
     "data": {
      "text/plain": [
       "0.7519685039370079"
      ]
     },
     "execution_count": 43,
     "metadata": {},
     "output_type": "execute_result"
    }
   ],
   "source": [
    "# Finding the accuracy\n",
    "accuracy_svm_rbf = accuracy_score(y_test, y_pred_svm_rbf)\n",
    "accuracy_svm_rbf"
   ]
  },
  {
   "cell_type": "code",
   "execution_count": 44,
   "id": "40070e6f-c771-46d8-b4c5-55d63bdde7e4",
   "metadata": {},
   "outputs": [
    {
     "data": {
      "text/plain": [
       "0.7075027685492802"
      ]
     },
     "execution_count": 44,
     "metadata": {},
     "output_type": "execute_result"
    }
   ],
   "source": [
    "# Finding the AUC\n",
    "auc_svm_rbf = roc_auc_score(y_test, y_pred_svm_rbf)\n",
    "auc_svm_rbf"
   ]
  },
  {
   "cell_type": "code",
   "execution_count": 45,
   "id": "b25c9c47-453c-4465-ad87-c121b9ad4a95",
   "metadata": {},
   "outputs": [
    {
     "data": {
      "image/png": "[encoded data removed]",
      "text/plain": [
       "<Figure size 576x432 with 1 Axes>"
      ]
     },
     "metadata": {
      "needs_background": "light"
     },
     "output_type": "display_data"
    }
   ],
   "source": [
    "# Ploting Areas Under the ROC Curves (AUCs)\n",
    "y_prob_svm_rbf = svm_rbf_model.predict_proba(X_test_scaled)[:, 1] \n",
    "fpr_svm_rbf, tpr_svm_rbf, _ = roc_curve(y_test, y_prob_svm_rbf)\n",
    "\n",
    "# Plot ROC curve for RBF SVM\n",
    "plt.figure(figsize=(8, 6))\n",
    "plt.plot(fpr_svm_rbf, tpr_svm_rbf, color='red', label=f'RBF SVM')\n",
    "plt.plot([0, 1], [0, 1], 'k--', label='Random Classifier (AUC = 0.5)')\n",
    "plt.xlabel('False Positive Rate (FPR)')\n",
    "plt.ylabel('True Positive Rate (TPR)')\n",
    "plt.title('ROC Curve for RBF SVM')\n",
    "plt.legend(loc='lower right')\n",
    "plt.grid()\n",
    "plt.show()"
   ]
  },
  {
   "cell_type": "code",
   "execution_count": 46,
   "id": "2c0ad70e-d5b4-4db5-a084-8aaca6afb336",
   "metadata": {},
   "outputs": [
    {
     "data": {
      "text/plain": [
       "0.608695652173913"
      ]
     },
     "execution_count": 46,
     "metadata": {},
     "output_type": "execute_result"
    }
   ],
   "source": [
    "# Finding f1 score value\n",
    "f1_svm_rbf = f1_score(y_test, y_pred_svm_rbf)\n",
    "f1_svm_rbf"
   ]
  },
  {
   "cell_type": "code",
   "execution_count": 47,
   "id": "6e1d6679-98ad-48e6-9e23-5e1833cac92f",
   "metadata": {},
   "outputs": [
    {
     "data": {
      "image/png": "[encoded data removed]",
      "text/plain": [
       "<Figure size 576x432 with 2 Axes>"
      ]
     },
     "metadata": {
      "needs_background": "light"
     },
     "output_type": "display_data"
    }
   ],
   "source": [
    "cm = confusion_matrix(y_test, y_pred_svm_rbf)\n",
    "\n",
    "plt.figure(figsize=(8, 6))\n",
    "sns.heatmap(cm, annot=True, fmt=\"d\", cmap=\"Blues\")\n",
    "plt.title(\"Confusion Matrix for RBF SVM\")\n",
    "plt.xlabel(\"Predicted\")\n",
    "plt.ylabel(\"True\")\n",
    "plt.show()"
   ]
  },
  {
   "cell_type": "code",
   "execution_count": 48,
   "id": "c3f61c41",
   "metadata": {},
   "outputs": [
    {
     "data": {
      "text/plain": [
       "array([[142,  26],\n",
       "       [ 37,  49]], dtype=int64)"
      ]
     },
     "execution_count": 48,
     "metadata": {},
     "output_type": "execute_result"
    }
   ],
   "source": [
    "cm"
   ]
  },
  {
   "cell_type": "markdown",
   "id": "78fa9087-00a6-4285-9ab8-350eb953d0c2",
   "metadata": {},
   "source": [
    "<h2 style=\"color:blue\">Compare the obtained results </h2>"
   ]
  },
  {
   "cell_type": "markdown",
   "id": "cab4ccd8-7d36-49a3-8c9c-19fe798a51cb",
   "metadata": {},
   "source": [
    "***Compare based on the accuracy***"
   ]
  },
  {
   "cell_type": "code",
   "execution_count": 40,
   "id": "1e98fe8c-d601-4e19-9945-4ba313aefc9b",
   "metadata": {},
   "outputs": [],
   "source": [
    "# Model names and accuracy values\n",
    "models = ['Logistic Regression', 'Linear SVM', 'RBF SVM']\n",
    "accuracies = [accuracy_log_reg, accuracy_svm_linear, accuracy_svm_rbf]"
   ]
  },
  {
   "cell_type": "code",
   "execution_count": 41,
   "id": "a32d884e-fe45-43d8-8be4-3395ddae0bf0",
   "metadata": {},
   "outputs": [
    {
     "data": {
      "image/png": "[encoded data removed]",
      "text/plain": [
       "<Figure size 576x432 with 1 Axes>"
      ]
     },
     "metadata": {
      "needs_background": "light"
     },
     "output_type": "display_data"
    }
   ],
   "source": [
    "# Plotting the bar chart\n",
    "plt.figure(figsize=(8, 6))\n",
    "plt.bar(models, accuracies, color=['blue', 'green', 'red'])\n",
    "plt.xlabel('Models')\n",
    "plt.ylabel('Accuracy')\n",
    "plt.title('Accuracy Comparison of Logistic Regression, Linear SVM, and RBF SVM')\n",
    "for i, v in enumerate(accuracies):\n",
    "    plt.text(i, v + 0.02, f\"{v:.2f}\", ha='center', fontweight='bold')\n",
    "plt.show()"
   ]
  },
  {
   "cell_type": "markdown",
   "id": "4fc05e2f-e732-4652-812e-a1b070315595",
   "metadata": {},
   "source": [
    "***Based on the above curve that showing the relation between each model and its accuracy, it is found that the SVM with linear and rbf kernels is giving the highest accuracy comparing with the logistic regression model***"
   ]
  },
  {
   "cell_type": "markdown",
   "id": "3aa9d0e9-3106-4a8f-824f-7cc4be428b65",
   "metadata": {},
   "source": [
    "---------------------"
   ]
  },
  {
   "cell_type": "markdown",
   "id": "3f0f9463-5b79-4b2e-b68a-8208c1bd1357",
   "metadata": {},
   "source": [
    "***Compare based on the F1 Score***"
   ]
  },
  {
   "cell_type": "code",
   "execution_count": 42,
   "id": "77172009-f614-4f22-a93d-d6aef5d80ff4",
   "metadata": {},
   "outputs": [
    {
     "data": {
      "image/png": "[encoded data removed]",
      "text/plain": [
       "<Figure size 576x432 with 1 Axes>"
      ]
     },
     "metadata": {
      "needs_background": "light"
     },
     "output_type": "display_data"
    }
   ],
   "source": [
    "# Model names and accuracy values\n",
    "models = ['Logistic Regression', 'Linear SVM', 'RBF SVM']\n",
    "f1_scores = [f1_log_reg, f1_svm_linear, f1_svm_rbf]\n",
    "\n",
    "# Plotting the bar chart\n",
    "plt.figure(figsize=(8, 6))\n",
    "plt.bar(models, accuracies, color=['blue', 'green', 'red'])\n",
    "plt.xlabel('Models')\n",
    "plt.ylabel('F1 score')\n",
    "plt.title('F1 Score Comparison of Logistic Regression, Linear SVM, and RBF SVM')\n",
    "for i, v in enumerate(f1_scores):\n",
    "    plt.text(i, v + 0.02, f\"{v:.2f}\", ha='center', fontweight='bold')\n",
    "plt.show()"
   ]
  },
  {
   "cell_type": "markdown",
   "id": "7cfbba25-d15c-4f66-a784-3ff25c0f9035",
   "metadata": {},
   "source": [
    "***Based on the above curve that showing the relation between each model and its f1 score, it is found that the SVM with linear is giving the highest score that equal 0.63***"
   ]
  },
  {
   "cell_type": "markdown",
   "id": "383ff179-3fdc-41df-a87c-0f3b02037778",
   "metadata": {},
   "source": [
    "------------------------"
   ]
  },
  {
   "cell_type": "markdown",
   "id": "ed3a24ef-270f-4f47-acf7-7b5700b324d7",
   "metadata": {},
   "source": [
    "***Compare based on the AUC***"
   ]
  },
  {
   "cell_type": "code",
   "execution_count": 43,
   "id": "d74fadd1-260f-4e63-a7de-7c03db574593",
   "metadata": {},
   "outputs": [
    {
     "data": {
      "image/png": "[encoded data removed]",
      "text/plain": [
       "<Figure size 576x432 with 1 Axes>"
      ]
     },
     "metadata": {
      "needs_background": "light"
     },
     "output_type": "display_data"
    }
   ],
   "source": [
    "# Model names and accuracy values\n",
    "models = ['Logistic Regression', 'Linear SVM', 'RBF SVM']\n",
    "auc_values = [auc_log_reg, auc_svm_linear, auc_svm_rbf]\n",
    "\n",
    "# Plotting the bar chart\n",
    "plt.figure(figsize=(8, 6))\n",
    "plt.bar(models, accuracies, color=['blue', 'green', 'red'])\n",
    "plt.xlabel('Models')\n",
    "plt.ylabel('AUC')\n",
    "plt.title('AUC Comparison of Logistic Regression, Linear SVM, and RBF SVM')\n",
    "for i, v in enumerate(auc_values):\n",
    "    plt.text(i, v + 0.02, f\"{v:.2f}\", ha='center', fontweight='bold')\n",
    "plt.show()"
   ]
  },
  {
   "cell_type": "markdown",
   "id": "b9484db4-f7bc-4c8e-9449-5ad09fdd741d",
   "metadata": {},
   "source": [
    "***Based on the above curve that showing the relation between each model and its AUC value, it is found that the SVM with linear is giving the highest value that equal 0.72***"
   ]
  },
  {
   "cell_type": "markdown",
   "id": "b0748415-29aa-469c-a61c-422a17915030",
   "metadata": {},
   "source": [
    "---------------------"
   ]
  },
  {
   "cell_type": "markdown",
   "id": "59129de5-71d7-474d-86bf-78500ae6a4e5",
   "metadata": {},
   "source": [
    "***Results of the three models***"
   ]
  },
  {
   "cell_type": "code",
   "execution_count": 44,
   "id": "657ed089-c23f-43be-b0c1-e130ddc00e3d",
   "metadata": {},
   "outputs": [
    {
     "data": {
      "text/html": [
       "<div>\n",
       "<style scoped>\n",
       "    .dataframe tbody tr th:only-of-type {\n",
       "        vertical-align: middle;\n",
       "    }\n",
       "\n",
       "    .dataframe tbody tr th {\n",
       "        vertical-align: top;\n",
       "    }\n",
       "\n",
       "    .dataframe thead th {\n",
       "        text-align: right;\n",
       "    }\n",
       "</style>\n",
       "<table border=\"1\" class=\"dataframe\">\n",
       "  <thead>\n",
       "    <tr style=\"text-align: right;\">\n",
       "      <th></th>\n",
       "      <th>Model</th>\n",
       "      <th>Accuracy</th>\n",
       "      <th>AUC</th>\n",
       "      <th>F1</th>\n",
       "    </tr>\n",
       "  </thead>\n",
       "  <tbody>\n",
       "    <tr>\n",
       "      <th>0</th>\n",
       "      <td>Logistic Regression</td>\n",
       "      <td>0.740157</td>\n",
       "      <td>0.707087</td>\n",
       "      <td>0.611765</td>\n",
       "    </tr>\n",
       "    <tr>\n",
       "      <th>1</th>\n",
       "      <td>Linear SVM</td>\n",
       "      <td>0.751969</td>\n",
       "      <td>0.718854</td>\n",
       "      <td>0.627219</td>\n",
       "    </tr>\n",
       "    <tr>\n",
       "      <th>2</th>\n",
       "      <td>RBF SVM</td>\n",
       "      <td>0.751969</td>\n",
       "      <td>0.707503</td>\n",
       "      <td>0.608696</td>\n",
       "    </tr>\n",
       "  </tbody>\n",
       "</table>\n",
       "</div>"
      ],
      "text/plain": [
       "                 Model  Accuracy       AUC        F1\n",
       "0  Logistic Regression  0.740157  0.707087  0.611765\n",
       "1           Linear SVM  0.751969  0.718854  0.627219\n",
       "2              RBF SVM  0.751969  0.707503  0.608696"
      ]
     },
     "execution_count": 44,
     "metadata": {},
     "output_type": "execute_result"
    }
   ],
   "source": [
    "import pandas as pd\n",
    "\n",
    "models = ['Logistic Regression', 'Linear SVM', 'RBF SVM']\n",
    "accuracies = [accuracy_log_reg, accuracy_svm_linear, accuracy_svm_rbf]\n",
    "auc_values = [auc_log_reg, auc_svm_linear, auc_svm_rbf]\n",
    "f1_scores = [f1_log_reg, f1_svm_linear, f1_svm_rbf]\n",
    "\n",
    "data = {'Model': models,\n",
    "        'Accuracy': accuracies,\n",
    "        'AUC': auc_values,\n",
    "        'F1': f1_scores}\n",
    "\n",
    "df = pd.DataFrame(data)\n",
    "df\n"
   ]
  },
  {
   "cell_type": "markdown",
   "id": "133f7e08-2bb1-43a0-9789-39b0266002df",
   "metadata": {},
   "source": [
    "<h2 style=\"color:blue\">Use the k-fold cross validation</h2>"
   ]
  },
  {
   "cell_type": "code",
   "execution_count": 45,
   "id": "cbdbb51b-5059-4c1e-aab9-279b59d91f3d",
   "metadata": {},
   "outputs": [],
   "source": [
    "# Step 8: Cross-validation to compare results\n",
    "cv_scores_log_reg = cross_val_score(log_reg_model, X_train_scaled, y_train, cv=3, scoring='accuracy')\n",
    "cv_scores_svm_linear = cross_val_score(svm_linear_model, X_train_scaled, y_train, cv=3, scoring='accuracy')\n",
    "cv_scores_svm_rbf = cross_val_score(svm_rbf_model, X_train_scaled, y_train, cv=3, scoring='accuracy')\n"
   ]
  },
  {
   "cell_type": "code",
   "execution_count": 46,
   "id": "469899d1-cf0b-4e01-9780-561228a35c79",
   "metadata": {},
   "outputs": [
    {
     "name": "stdout",
     "output_type": "stream",
     "text": [
      "Logistic Regression CV Accuracy: 0.7703885035586383\n",
      "Linear SVM CV Accuracy: 0.7742871390362209\n",
      "RBF SVM CV Accuracy: 0.7586812638832222\n"
     ]
    }
   ],
   "source": [
    "print(f'Logistic Regression CV Accuracy: {cv_scores_log_reg.mean()}')\n",
    "print(f'Linear SVM CV Accuracy: {cv_scores_svm_linear.mean()}')\n",
    "print(f'RBF SVM CV Accuracy: {cv_scores_svm_rbf.mean()}')"
   ]
  },
  {
   "cell_type": "markdown",
   "id": "4395a5d5-f499-4a66-a72b-74d44373bfb8",
   "metadata": {},
   "source": [
    "----------------------------------"
   ]
  },
  {
   "cell_type": "markdown",
   "id": "701802fc-7c0c-417c-86ee-ea0ea3feff9c",
   "metadata": {},
   "source": [
    "### End"
   ]
  }
 ],
 "metadata": {
  "kernelspec": {
   "display_name": "Python 3 (ipykernel)",
   "language": "python",
   "name": "python3"
  },
  "language_info": {
   "codemirror_mode": {
    "name": "ipython",
    "version": 3
   },
   "file_extension": ".py",
   "mimetype": "text/x-python",
   "name": "python",
   "nbconvert_exporter": "python",
   "pygments_lexer": "ipython3",
   "version": "3.9.12"
  }
 },
 "nbformat": 4,
 "nbformat_minor": 5
}
